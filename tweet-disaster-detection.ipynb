{
 "cells": [
  {
   "cell_type": "markdown",
   "execution_count": null,
   "metadata": {},
   "source": [
    "# Introduction"
   ]
  },
  {
   "cell_type": "markdown",
   "execution_count": null,
   "metadata": {},
   "source": [
    "I made this kernel for Kaggle's 'NLP with Disaster Tweets' competition. In this kernel, given thousands of tweets, I tried to identify whether the tweet talks about a disaster or not."
   ]
  },
  {
   "cell_type": "markdown",
   "execution_count": null,
   "metadata": {},
   "source": [
    "# Contents"
   ]
  },
  {
   "cell_type": "markdown",
   "execution_count": null,
   "metadata": {},
   "source": [
    "* Preliminary steps\n",
    "    * Importing the necessary libraries\n",
    "    * Converting the CSV file into a pandas dataframe\n",
    "* Creating new columns\n",
    "* Visualizing the data\n",
    "* Encoding the features of the train data\n",
    "* Defining the features and prediction target\n",
    "* Creating the model\n",
    "* Fitting the model\n",
    "* Dealing with the test data\n",
    "    * Encoding the features of the test data\n",
    "* Prediction\n",
    "* Ending Note"
   ]
  },
  {
   "cell_type": "markdown",
   "execution_count": null,
   "metadata": {},
   "source": [
    "### Preliminary Steps"
   ]
  },
  {
   "cell_type": "markdown",
   "execution_count": null,
   "metadata": {},
   "source": [
    "Importing the necessary libraries - "
   ]
  },
  {
   "cell_type": "code",
   "execution_count": 1,
   "metadata": {},
   "outputs": [
    {
     "name": "stderr",
     "output_type": "stream",
     "text": [
      "Using TensorFlow backend.\n",
      "/opt/conda/lib/python3.7/site-packages/tqdm/std.py:658: FutureWarning: The Panel class is removed from pandas. Accessing it from the top-level namespace will also be removed in the next version\n",
      "  from pandas import Panel\n"
     ]
    }
   ],
   "source": [
    "import os\n",
    "import numpy as np\n",
    "import pandas as pd\n",
    "from tqdm.notebook import tqdm\n",
    "\n",
    "import keras\n",
    "from keras.models import Sequential\n",
    "from keras.layers import Dense, Dropout, Input\n",
    "\n",
    "tqdm.pandas()\n",
    "import seaborn as sns\n",
    "import matplotlib.pyplot as plt\n",
    "from sklearn.model_selection import train_test_split\n",
    "from sklearn import feature_extraction, linear_model, model_selection, preprocessing"
   ]
  },
  {
   "cell_type": "markdown",
   "execution_count": null,
   "metadata": {},
   "source": [
    "Converting the CSV file into a pandas dataframe - "
   ]
  },
  {
   "cell_type": "code",
   "execution_count": 2,
   "metadata": {},
   "outputs": [
    {
     "data": {
      "text/plain": [
       "['train.csv', 'test.csv', 'sample_submission.csv']"
      ]
     },
     "execution_count": 2,
     "metadata": {},
     "output_type": "execute_result"
    }
   ],
   "source": [
    "os.listdir('../input/nlp-getting-started')"
   ]
  },
  {
   "cell_type": "code",
   "execution_count": 3,
   "metadata": {
    "_cell_guid": "79c7e3d0-c299-4dcb-8224-4455121ee9b0",
    "_uuid": "d629ff2d2480ee46fbb7e2d37f6b5fab8052498a"
   },
   "outputs": [],
   "source": [
    "train_data = pd.read_csv('../input/nlp-getting-started/train.csv')"
   ]
  },
  {
   "cell_type": "markdown",
   "execution_count": null,
   "metadata": {},
   "source": [
    "A look at the train data - "
   ]
  },
  {
   "cell_type": "code",
   "execution_count": 4,
   "metadata": {},
   "outputs": [
    {
     "data": {
      "text/html": [
       "<div>\n",
       "<style scoped>\n",
       "    .dataframe tbody tr th:only-of-type {\n",
       "        vertical-align: middle;\n",
       "    }\n",
       "\n",
       "    .dataframe tbody tr th {\n",
       "        vertical-align: top;\n",
       "    }\n",
       "\n",
       "    .dataframe thead th {\n",
       "        text-align: right;\n",
       "    }\n",
       "</style>\n",
       "<table border=\"1\" class=\"dataframe\">\n",
       "  <thead>\n",
       "    <tr style=\"text-align: right;\">\n",
       "      <th></th>\n",
       "      <th>id</th>\n",
       "      <th>keyword</th>\n",
       "      <th>location</th>\n",
       "      <th>text</th>\n",
       "      <th>target</th>\n",
       "    </tr>\n",
       "  </thead>\n",
       "  <tbody>\n",
       "    <tr>\n",
       "      <th>0</th>\n",
       "      <td>1</td>\n",
       "      <td>NaN</td>\n",
       "      <td>NaN</td>\n",
       "      <td>Our Deeds are the Reason of this #earthquake M...</td>\n",
       "      <td>1</td>\n",
       "    </tr>\n",
       "    <tr>\n",
       "      <th>1</th>\n",
       "      <td>4</td>\n",
       "      <td>NaN</td>\n",
       "      <td>NaN</td>\n",
       "      <td>Forest fire near La Ronge Sask. Canada</td>\n",
       "      <td>1</td>\n",
       "    </tr>\n",
       "    <tr>\n",
       "      <th>2</th>\n",
       "      <td>5</td>\n",
       "      <td>NaN</td>\n",
       "      <td>NaN</td>\n",
       "      <td>All residents asked to 'shelter in place' are ...</td>\n",
       "      <td>1</td>\n",
       "    </tr>\n",
       "    <tr>\n",
       "      <th>3</th>\n",
       "      <td>6</td>\n",
       "      <td>NaN</td>\n",
       "      <td>NaN</td>\n",
       "      <td>13,000 people receive #wildfires evacuation or...</td>\n",
       "      <td>1</td>\n",
       "    </tr>\n",
       "    <tr>\n",
       "      <th>4</th>\n",
       "      <td>7</td>\n",
       "      <td>NaN</td>\n",
       "      <td>NaN</td>\n",
       "      <td>Just got sent this photo from Ruby #Alaska as ...</td>\n",
       "      <td>1</td>\n",
       "    </tr>\n",
       "    <tr>\n",
       "      <th>5</th>\n",
       "      <td>8</td>\n",
       "      <td>NaN</td>\n",
       "      <td>NaN</td>\n",
       "      <td>#RockyFire Update =&gt; California Hwy. 20 closed...</td>\n",
       "      <td>1</td>\n",
       "    </tr>\n",
       "    <tr>\n",
       "      <th>6</th>\n",
       "      <td>10</td>\n",
       "      <td>NaN</td>\n",
       "      <td>NaN</td>\n",
       "      <td>#flood #disaster Heavy rain causes flash flood...</td>\n",
       "      <td>1</td>\n",
       "    </tr>\n",
       "    <tr>\n",
       "      <th>7</th>\n",
       "      <td>13</td>\n",
       "      <td>NaN</td>\n",
       "      <td>NaN</td>\n",
       "      <td>I'm on top of the hill and I can see a fire in...</td>\n",
       "      <td>1</td>\n",
       "    </tr>\n",
       "    <tr>\n",
       "      <th>8</th>\n",
       "      <td>14</td>\n",
       "      <td>NaN</td>\n",
       "      <td>NaN</td>\n",
       "      <td>There's an emergency evacuation happening now ...</td>\n",
       "      <td>1</td>\n",
       "    </tr>\n",
       "    <tr>\n",
       "      <th>9</th>\n",
       "      <td>15</td>\n",
       "      <td>NaN</td>\n",
       "      <td>NaN</td>\n",
       "      <td>I'm afraid that the tornado is coming to our a...</td>\n",
       "      <td>1</td>\n",
       "    </tr>\n",
       "  </tbody>\n",
       "</table>\n",
       "</div>"
      ],
      "text/plain": [
       "   id keyword location                                               text  \\\n",
       "0   1     NaN      NaN  Our Deeds are the Reason of this #earthquake M...   \n",
       "1   4     NaN      NaN             Forest fire near La Ronge Sask. Canada   \n",
       "2   5     NaN      NaN  All residents asked to 'shelter in place' are ...   \n",
       "3   6     NaN      NaN  13,000 people receive #wildfires evacuation or...   \n",
       "4   7     NaN      NaN  Just got sent this photo from Ruby #Alaska as ...   \n",
       "5   8     NaN      NaN  #RockyFire Update => California Hwy. 20 closed...   \n",
       "6  10     NaN      NaN  #flood #disaster Heavy rain causes flash flood...   \n",
       "7  13     NaN      NaN  I'm on top of the hill and I can see a fire in...   \n",
       "8  14     NaN      NaN  There's an emergency evacuation happening now ...   \n",
       "9  15     NaN      NaN  I'm afraid that the tornado is coming to our a...   \n",
       "\n",
       "   target  \n",
       "0       1  \n",
       "1       1  \n",
       "2       1  \n",
       "3       1  \n",
       "4       1  \n",
       "5       1  \n",
       "6       1  \n",
       "7       1  \n",
       "8       1  \n",
       "9       1  "
      ]
     },
     "execution_count": 4,
     "metadata": {},
     "output_type": "execute_result"
    }
   ],
   "source": [
    "train_data.head(10)"
   ]
  },
  {
   "cell_type": "markdown",
   "execution_count": null,
   "metadata": {},
   "source": [
    "### Creating new columns"
   ]
  },
  {
   "cell_type": "markdown",
   "execution_count": null,
   "metadata": {},
   "source": [
    "Creating 3 new columns - tweet_length, tweet_words and average_word_length"
   ]
  },
  {
   "cell_type": "code",
   "execution_count": 5,
   "metadata": {},
   "outputs": [
    {
     "data": {
      "application/vnd.jupyter.widget-view+json": {
       "model_id": "efd0b4ffbfa248c5aae411f6eeb0cede",
       "version_major": 2,
       "version_minor": 0
      },
      "text/plain": [
       "HBox(children=(FloatProgress(value=0.0, max=7613.0), HTML(value='')))"
      ]
     },
     "metadata": {},
     "output_type": "display_data"
    },
    {
     "name": "stdout",
     "output_type": "stream",
     "text": [
      "\n"
     ]
    },
    {
     "data": {
      "application/vnd.jupyter.widget-view+json": {
       "model_id": "a8b58bd7b27b467487e4ffaa4f835853",
       "version_major": 2,
       "version_minor": 0
      },
      "text/plain": [
       "HBox(children=(FloatProgress(value=0.0, max=7613.0), HTML(value='')))"
      ]
     },
     "metadata": {},
     "output_type": "display_data"
    },
    {
     "name": "stdout",
     "output_type": "stream",
     "text": [
      "\n"
     ]
    }
   ],
   "source": [
    "train_data[\"tweet_length\"] = train_data[\"text\"].progress_apply(len)\n",
    "train_data[\"tweet_words\"] = train_data[\"text\"].progress_apply(lambda x: len(x.split()))\n",
    "train_data[\"average_word_length\"] = train_data[\"tweet_length\"]/train_data[\"tweet_words\"]"
   ]
  },
  {
   "cell_type": "markdown",
   "execution_count": null,
   "metadata": {},
   "source": [
    "A look at the train data with the new columns - "
   ]
  },
  {
   "cell_type": "code",
   "execution_count": 6,
   "metadata": {},
   "outputs": [
    {
     "data": {
      "text/html": [
       "<div>\n",
       "<style scoped>\n",
       "    .dataframe tbody tr th:only-of-type {\n",
       "        vertical-align: middle;\n",
       "    }\n",
       "\n",
       "    .dataframe tbody tr th {\n",
       "        vertical-align: top;\n",
       "    }\n",
       "\n",
       "    .dataframe thead th {\n",
       "        text-align: right;\n",
       "    }\n",
       "</style>\n",
       "<table border=\"1\" class=\"dataframe\">\n",
       "  <thead>\n",
       "    <tr style=\"text-align: right;\">\n",
       "      <th></th>\n",
       "      <th>id</th>\n",
       "      <th>keyword</th>\n",
       "      <th>location</th>\n",
       "      <th>text</th>\n",
       "      <th>target</th>\n",
       "      <th>tweet_length</th>\n",
       "      <th>tweet_words</th>\n",
       "      <th>average_word_length</th>\n",
       "    </tr>\n",
       "  </thead>\n",
       "  <tbody>\n",
       "    <tr>\n",
       "      <th>0</th>\n",
       "      <td>1</td>\n",
       "      <td>NaN</td>\n",
       "      <td>NaN</td>\n",
       "      <td>Our Deeds are the Reason of this #earthquake M...</td>\n",
       "      <td>1</td>\n",
       "      <td>69</td>\n",
       "      <td>13</td>\n",
       "      <td>5.307692</td>\n",
       "    </tr>\n",
       "    <tr>\n",
       "      <th>1</th>\n",
       "      <td>4</td>\n",
       "      <td>NaN</td>\n",
       "      <td>NaN</td>\n",
       "      <td>Forest fire near La Ronge Sask. Canada</td>\n",
       "      <td>1</td>\n",
       "      <td>38</td>\n",
       "      <td>7</td>\n",
       "      <td>5.428571</td>\n",
       "    </tr>\n",
       "    <tr>\n",
       "      <th>2</th>\n",
       "      <td>5</td>\n",
       "      <td>NaN</td>\n",
       "      <td>NaN</td>\n",
       "      <td>All residents asked to 'shelter in place' are ...</td>\n",
       "      <td>1</td>\n",
       "      <td>133</td>\n",
       "      <td>22</td>\n",
       "      <td>6.045455</td>\n",
       "    </tr>\n",
       "    <tr>\n",
       "      <th>3</th>\n",
       "      <td>6</td>\n",
       "      <td>NaN</td>\n",
       "      <td>NaN</td>\n",
       "      <td>13,000 people receive #wildfires evacuation or...</td>\n",
       "      <td>1</td>\n",
       "      <td>65</td>\n",
       "      <td>8</td>\n",
       "      <td>8.125000</td>\n",
       "    </tr>\n",
       "    <tr>\n",
       "      <th>4</th>\n",
       "      <td>7</td>\n",
       "      <td>NaN</td>\n",
       "      <td>NaN</td>\n",
       "      <td>Just got sent this photo from Ruby #Alaska as ...</td>\n",
       "      <td>1</td>\n",
       "      <td>88</td>\n",
       "      <td>16</td>\n",
       "      <td>5.500000</td>\n",
       "    </tr>\n",
       "    <tr>\n",
       "      <th>5</th>\n",
       "      <td>8</td>\n",
       "      <td>NaN</td>\n",
       "      <td>NaN</td>\n",
       "      <td>#RockyFire Update =&gt; California Hwy. 20 closed...</td>\n",
       "      <td>1</td>\n",
       "      <td>110</td>\n",
       "      <td>18</td>\n",
       "      <td>6.111111</td>\n",
       "    </tr>\n",
       "    <tr>\n",
       "      <th>6</th>\n",
       "      <td>10</td>\n",
       "      <td>NaN</td>\n",
       "      <td>NaN</td>\n",
       "      <td>#flood #disaster Heavy rain causes flash flood...</td>\n",
       "      <td>1</td>\n",
       "      <td>95</td>\n",
       "      <td>14</td>\n",
       "      <td>6.785714</td>\n",
       "    </tr>\n",
       "    <tr>\n",
       "      <th>7</th>\n",
       "      <td>13</td>\n",
       "      <td>NaN</td>\n",
       "      <td>NaN</td>\n",
       "      <td>I'm on top of the hill and I can see a fire in...</td>\n",
       "      <td>1</td>\n",
       "      <td>59</td>\n",
       "      <td>15</td>\n",
       "      <td>3.933333</td>\n",
       "    </tr>\n",
       "    <tr>\n",
       "      <th>8</th>\n",
       "      <td>14</td>\n",
       "      <td>NaN</td>\n",
       "      <td>NaN</td>\n",
       "      <td>There's an emergency evacuation happening now ...</td>\n",
       "      <td>1</td>\n",
       "      <td>79</td>\n",
       "      <td>12</td>\n",
       "      <td>6.583333</td>\n",
       "    </tr>\n",
       "    <tr>\n",
       "      <th>9</th>\n",
       "      <td>15</td>\n",
       "      <td>NaN</td>\n",
       "      <td>NaN</td>\n",
       "      <td>I'm afraid that the tornado is coming to our a...</td>\n",
       "      <td>1</td>\n",
       "      <td>52</td>\n",
       "      <td>10</td>\n",
       "      <td>5.200000</td>\n",
       "    </tr>\n",
       "  </tbody>\n",
       "</table>\n",
       "</div>"
      ],
      "text/plain": [
       "   id keyword location                                               text  \\\n",
       "0   1     NaN      NaN  Our Deeds are the Reason of this #earthquake M...   \n",
       "1   4     NaN      NaN             Forest fire near La Ronge Sask. Canada   \n",
       "2   5     NaN      NaN  All residents asked to 'shelter in place' are ...   \n",
       "3   6     NaN      NaN  13,000 people receive #wildfires evacuation or...   \n",
       "4   7     NaN      NaN  Just got sent this photo from Ruby #Alaska as ...   \n",
       "5   8     NaN      NaN  #RockyFire Update => California Hwy. 20 closed...   \n",
       "6  10     NaN      NaN  #flood #disaster Heavy rain causes flash flood...   \n",
       "7  13     NaN      NaN  I'm on top of the hill and I can see a fire in...   \n",
       "8  14     NaN      NaN  There's an emergency evacuation happening now ...   \n",
       "9  15     NaN      NaN  I'm afraid that the tornado is coming to our a...   \n",
       "\n",
       "   target  tweet_length  tweet_words  average_word_length  \n",
       "0       1            69           13             5.307692  \n",
       "1       1            38            7             5.428571  \n",
       "2       1           133           22             6.045455  \n",
       "3       1            65            8             8.125000  \n",
       "4       1            88           16             5.500000  \n",
       "5       1           110           18             6.111111  \n",
       "6       1            95           14             6.785714  \n",
       "7       1            59           15             3.933333  \n",
       "8       1            79           12             6.583333  \n",
       "9       1            52           10             5.200000  "
      ]
     },
     "execution_count": 6,
     "metadata": {},
     "output_type": "execute_result"
    }
   ],
   "source": [
    "train_data.head(10)"
   ]
  },
  {
   "cell_type": "markdown",
   "execution_count": null,
   "metadata": {},
   "source": [
    "### Visualizing the data"
   ]
  },
  {
   "cell_type": "markdown",
   "execution_count": null,
   "metadata": {},
   "source": [
    "Tweet Words Distributions - "
   ]
  },
  {
   "cell_type": "code",
   "execution_count": 7,
   "metadata": {},
   "outputs": [
    {
     "data": {
      "image/png": "[encoded data removed]",
      "text/plain": [
       "<Figure size 432x288 with 1 Axes>"
      ]
     },
     "metadata": {
      "needs_background": "light"
     },
     "output_type": "display_data"
    }
   ],
   "source": [
    "sns.distplot(train_data[\"tweet_words\"], color=\"deeppink\")\n",
    "plt.show()"
   ]
  },
  {
   "cell_type": "markdown",
   "execution_count": null,
   "metadata": {},
   "source": [
    "Tweet Length Distribution - "
   ]
  },
  {
   "cell_type": "code",
   "execution_count": 8,
   "metadata": {},
   "outputs": [
    {
     "data": {
      "image/png": "[encoded data removed]",
      "text/plain": [
       "<Figure size 432x288 with 1 Axes>"
      ]
     },
     "metadata": {
      "needs_background": "light"
     },
     "output_type": "display_data"
    }
   ],
   "source": [
    "sns.distplot(train_data[\"tweet_length\"], color=\"teal\")\n",
    "plt.show()"
   ]
  },
  {
   "cell_type": "markdown",
   "execution_count": null,
   "metadata": {},
   "source": [
    "Average Word Length Distribution - "
   ]
  },
  {
   "cell_type": "code",
   "execution_count": 9,
   "metadata": {},
   "outputs": [
    {
     "data": {
      "image/png": "[encoded data removed]",
      "text/plain": [
       "<Figure size 432x288 with 1 Axes>"
      ]
     },
     "metadata": {
      "needs_background": "light"
     },
     "output_type": "display_data"
    }
   ],
   "source": [
    "sns.distplot(train_data[\"average_word_length\"], color=\"darkorchid\")\n",
    "plt.show()"
   ]
  },
  {
   "cell_type": "markdown",
   "execution_count": null,
   "metadata": {},
   "source": [
    "Target vs. Tweet Words - "
   ]
  },
  {
   "cell_type": "code",
   "execution_count": 10,
   "metadata": {},
   "outputs": [
    {
     "data": {
      "image/png": "[encoded data removed]",
      "text/plain": [
       "<Figure size 432x288 with 1 Axes>"
      ]
     },
     "metadata": {
      "needs_background": "light"
     },
     "output_type": "display_data"
    }
   ],
   "source": [
    "sns.boxplot(data=train_data, x=\"target\", y=\"tweet_words\", palette=[\"turquoise\", \"hotpink\"])\n",
    "plt.show()"
   ]
  },
  {
   "cell_type": "markdown",
   "execution_count": null,
   "metadata": {},
   "source": [
    "Target vs. Tweet Length -"
   ]
  },
  {
   "cell_type": "code",
   "execution_count": 11,
   "metadata": {},
   "outputs": [
    {
     "data": {
      "image/png": "[encoded data removed]",
      "text/plain": [
       "<Figure size 432x288 with 1 Axes>"
      ]
     },
     "metadata": {
      "needs_background": "light"
     },
     "output_type": "display_data"
    }
   ],
   "source": [
    "sns.boxplot(data=train_data, x=\"target\", y=\"tweet_length\", palette=[\"turquoise\", \"hotpink\"])\n",
    "plt.show()"
   ]
  },
  {
   "cell_type": "markdown",
   "execution_count": null,
   "metadata": {},
   "source": [
    "Target vs. Average Tweet Length -"
   ]
  },
  {
   "cell_type": "code",
   "execution_count": 12,
   "metadata": {},
   "outputs": [
    {
     "data": {
      "image/png": "[encoded data removed]",
      "text/plain": [
       "<Figure size 432x288 with 1 Axes>"
      ]
     },
     "metadata": {
      "needs_background": "light"
     },
     "output_type": "display_data"
    }
   ],
   "source": [
    "sns.boxplot(data=train_data, x=\"target\", y=\"average_word_length\", palette=[\"turquoise\", \"hotpink\"])\n",
    "plt.show()"
   ]
  },
  {
   "cell_type": "markdown",
   "execution_count": null,
   "metadata": {},
   "source": [
    "### Encoding the features of the train data"
   ]
  },
  {
   "cell_type": "markdown",
   "execution_count": null,
   "metadata": {},
   "source": [
    "Converting the tweets to vectors - "
   ]
  },
  {
   "cell_type": "code",
   "execution_count": 13,
   "metadata": {},
   "outputs": [],
   "source": [
    "count_vectorizer = feature_extraction.text.CountVectorizer()\n",
    "train_vectors = count_vectorizer.fit_transform(train_data[\"text\"]).todense()"
   ]
  },
  {
   "cell_type": "markdown",
   "execution_count": null,
   "metadata": {},
   "source": [
    "### Defining the features and prediction target"
   ]
  },
  {
   "cell_type": "code",
   "execution_count": 14,
   "metadata": {},
   "outputs": [],
   "source": [
    "X = train_vectors/train_vectors.max(axis=1)\n",
    "y = train_data[\"target\"].values.reshape((len(train_data), 1))"
   ]
  },
  {
   "cell_type": "markdown",
   "execution_count": null,
   "metadata": {},
   "source": [
    "Splitting the training data into training data and validation data -"
   ]
  },
  {
   "cell_type": "code",
   "execution_count": 15,
   "metadata": {},
   "outputs": [],
   "source": [
    "train_X, val_X, train_y, val_y = train_test_split(X, y)"
   ]
  },
  {
   "cell_type": "markdown",
   "execution_count": null,
   "metadata": {},
   "source": [
    "### Creating the model"
   ]
  },
  {
   "cell_type": "code",
   "execution_count": 16,
   "metadata": {},
   "outputs": [],
   "source": [
    "model = Sequential()\n",
    "model.add(Dropout(0.85))\n",
    "model.add(Dense(1, activation='sigmoid'))\n",
    "model.compile(loss='binary_crossentropy', optimizer='adam', metrics=['acc'])"
   ]
  },
  {
   "cell_type": "markdown",
   "execution_count": null,
   "metadata": {},
   "source": [
    "Providing the input size to the model -"
   ]
  },
  {
   "cell_type": "code",
   "execution_count": 17,
   "metadata": {},
   "outputs": [
    {
     "name": "stdout",
     "output_type": "stream",
     "text": [
      "Model: \"sequential_1\"\n",
      "_________________________________________________________________\n",
      "Layer (type)                 Output Shape              Param #   \n",
      "=================================================================\n",
      "dropout_1 (Dropout)          (None, 21637)             0         \n",
      "_________________________________________________________________\n",
      "dense_1 (Dense)              (None, 1)                 21638     \n",
      "=================================================================\n",
      "Total params: 21,638\n",
      "Trainable params: 21,638\n",
      "Non-trainable params: 0\n",
      "_________________________________________________________________\n"
     ]
    }
   ],
   "source": [
    "model.build(input_shape=(None, 21637))\n",
    "model.summary()"
   ]
  },
  {
   "cell_type": "markdown",
   "execution_count": null,
   "metadata": {},
   "source": [
    "### Fitting the model"
   ]
  },
  {
   "cell_type": "code",
   "execution_count": 18,
   "metadata": {},
   "outputs": [
    {
     "name": "stdout",
     "output_type": "stream",
     "text": [
      "Train on 5709 samples, validate on 1904 samples\n",
      "Epoch 1/100\n",
      "5709/5709 [==============================] - 2s 342us/step - loss: 0.6815 - acc: 0.5887 - val_loss: 0.6695 - val_acc: 0.6324\n",
      "Epoch 2/100\n",
      "5709/5709 [==============================] - 2s 275us/step - loss: 0.6561 - acc: 0.6534 - val_loss: 0.6498 - val_acc: 0.6833\n",
      "Epoch 3/100\n",
      "5709/5709 [==============================] - 2s 274us/step - loss: 0.6342 - acc: 0.6823 - val_loss: 0.6345 - val_acc: 0.7059\n",
      "Epoch 4/100\n",
      "5709/5709 [==============================] - 2s 281us/step - loss: 0.6180 - acc: 0.6884 - val_loss: 0.6232 - val_acc: 0.7111\n",
      "Epoch 5/100\n",
      "5709/5709 [==============================] - 2s 273us/step - loss: 0.6096 - acc: 0.6903 - val_loss: 0.6141 - val_acc: 0.7169\n",
      "Epoch 6/100\n",
      "5709/5709 [==============================] - 2s 273us/step - loss: 0.5964 - acc: 0.7015 - val_loss: 0.6061 - val_acc: 0.7153\n",
      "Epoch 7/100\n",
      "5709/5709 [==============================] - 2s 266us/step - loss: 0.5875 - acc: 0.7099 - val_loss: 0.5987 - val_acc: 0.7222\n",
      "Epoch 8/100\n",
      "5709/5709 [==============================] - 2s 265us/step - loss: 0.5779 - acc: 0.7206 - val_loss: 0.5912 - val_acc: 0.7432\n",
      "Epoch 9/100\n",
      "5709/5709 [==============================] - 2s 268us/step - loss: 0.5751 - acc: 0.7171 - val_loss: 0.5856 - val_acc: 0.7468\n",
      "Epoch 10/100\n",
      "5709/5709 [==============================] - 2s 271us/step - loss: 0.5631 - acc: 0.7250 - val_loss: 0.5808 - val_acc: 0.7442\n",
      "Epoch 11/100\n",
      "5709/5709 [==============================] - 2s 265us/step - loss: 0.5616 - acc: 0.7253 - val_loss: 0.5763 - val_acc: 0.7479\n",
      "Epoch 12/100\n",
      "5709/5709 [==============================] - 2s 268us/step - loss: 0.5529 - acc: 0.7345 - val_loss: 0.5718 - val_acc: 0.7500\n",
      "Epoch 13/100\n",
      "5709/5709 [==============================] - 2s 266us/step - loss: 0.5512 - acc: 0.7331 - val_loss: 0.5673 - val_acc: 0.7637\n",
      "Epoch 14/100\n",
      "5709/5709 [==============================] - 2s 268us/step - loss: 0.5457 - acc: 0.7401 - val_loss: 0.5636 - val_acc: 0.7631\n",
      "Epoch 15/100\n",
      "5709/5709 [==============================] - 2s 266us/step - loss: 0.5413 - acc: 0.7397 - val_loss: 0.5597 - val_acc: 0.7710\n",
      "Epoch 16/100\n",
      "5709/5709 [==============================] - 2s 268us/step - loss: 0.5332 - acc: 0.7399 - val_loss: 0.5570 - val_acc: 0.7663\n",
      "Epoch 17/100\n",
      "5709/5709 [==============================] - 2s 274us/step - loss: 0.5299 - acc: 0.7562 - val_loss: 0.5543 - val_acc: 0.7668\n",
      "Epoch 18/100\n",
      "5709/5709 [==============================] - 2s 268us/step - loss: 0.5235 - acc: 0.7516 - val_loss: 0.5512 - val_acc: 0.7658\n",
      "Epoch 19/100\n",
      "5709/5709 [==============================] - 2s 268us/step - loss: 0.5195 - acc: 0.7485 - val_loss: 0.5486 - val_acc: 0.7652\n",
      "Epoch 20/100\n",
      "5709/5709 [==============================] - 2s 266us/step - loss: 0.5239 - acc: 0.7499 - val_loss: 0.5464 - val_acc: 0.7736\n",
      "Epoch 21/100\n",
      "5709/5709 [==============================] - 2s 264us/step - loss: 0.5161 - acc: 0.7569 - val_loss: 0.5433 - val_acc: 0.7789\n",
      "Epoch 22/100\n",
      "5709/5709 [==============================] - 2s 267us/step - loss: 0.5139 - acc: 0.7542 - val_loss: 0.5408 - val_acc: 0.7794\n",
      "Epoch 23/100\n",
      "5709/5709 [==============================] - 2s 266us/step - loss: 0.5053 - acc: 0.7695 - val_loss: 0.5380 - val_acc: 0.7810\n",
      "Epoch 24/100\n",
      "5709/5709 [==============================] - 2s 272us/step - loss: 0.5013 - acc: 0.7663 - val_loss: 0.5368 - val_acc: 0.7789\n",
      "Epoch 25/100\n",
      "5709/5709 [==============================] - 2s 272us/step - loss: 0.5019 - acc: 0.7690 - val_loss: 0.5344 - val_acc: 0.7794\n",
      "Epoch 26/100\n",
      "5709/5709 [==============================] - 2s 279us/step - loss: 0.4967 - acc: 0.7665 - val_loss: 0.5326 - val_acc: 0.7815\n",
      "Epoch 27/100\n",
      "5709/5709 [==============================] - 2s 284us/step - loss: 0.4954 - acc: 0.7700 - val_loss: 0.5309 - val_acc: 0.7784\n",
      "Epoch 28/100\n",
      "5709/5709 [==============================] - 2s 295us/step - loss: 0.4962 - acc: 0.7709 - val_loss: 0.5288 - val_acc: 0.7799\n",
      "Epoch 29/100\n",
      "5709/5709 [==============================] - 2s 286us/step - loss: 0.4883 - acc: 0.7739 - val_loss: 0.5273 - val_acc: 0.7810\n",
      "Epoch 30/100\n",
      "5709/5709 [==============================] - 2s 272us/step - loss: 0.4830 - acc: 0.7723 - val_loss: 0.5256 - val_acc: 0.7820\n",
      "Epoch 31/100\n",
      "5709/5709 [==============================] - 2s 278us/step - loss: 0.4781 - acc: 0.7831 - val_loss: 0.5242 - val_acc: 0.7815\n",
      "Epoch 32/100\n",
      "5709/5709 [==============================] - 2s 275us/step - loss: 0.4839 - acc: 0.7784 - val_loss: 0.5232 - val_acc: 0.7826\n",
      "Epoch 33/100\n",
      "5709/5709 [==============================] - 2s 272us/step - loss: 0.4805 - acc: 0.7765 - val_loss: 0.5218 - val_acc: 0.7862\n",
      "Epoch 34/100\n",
      "5709/5709 [==============================] - 2s 275us/step - loss: 0.4777 - acc: 0.7774 - val_loss: 0.5204 - val_acc: 0.7889\n",
      "Epoch 35/100\n",
      "5709/5709 [==============================] - 2s 269us/step - loss: 0.4759 - acc: 0.7833 - val_loss: 0.5193 - val_acc: 0.7931\n",
      "Epoch 36/100\n",
      "5709/5709 [==============================] - 2s 271us/step - loss: 0.4794 - acc: 0.7709 - val_loss: 0.5188 - val_acc: 0.7889\n",
      "Epoch 37/100\n",
      "5709/5709 [==============================] - 2s 294us/step - loss: 0.4677 - acc: 0.7891 - val_loss: 0.5173 - val_acc: 0.7868\n",
      "Epoch 38/100\n",
      "5709/5709 [==============================] - 2s 303us/step - loss: 0.4718 - acc: 0.7812 - val_loss: 0.5160 - val_acc: 0.7894\n",
      "Epoch 39/100\n",
      "5709/5709 [==============================] - 2s 296us/step - loss: 0.4651 - acc: 0.7831 - val_loss: 0.5160 - val_acc: 0.7873\n",
      "Epoch 40/100\n",
      "5709/5709 [==============================] - 2s 302us/step - loss: 0.4615 - acc: 0.7947 - val_loss: 0.5140 - val_acc: 0.7904\n",
      "Epoch 41/100\n",
      "5709/5709 [==============================] - 2s 292us/step - loss: 0.4667 - acc: 0.7851 - val_loss: 0.5124 - val_acc: 0.7889\n",
      "Epoch 42/100\n",
      "5709/5709 [==============================] - 2s 294us/step - loss: 0.4633 - acc: 0.7867 - val_loss: 0.5125 - val_acc: 0.7878\n",
      "Epoch 43/100\n",
      "5709/5709 [==============================] - 2s 272us/step - loss: 0.4660 - acc: 0.7872 - val_loss: 0.5117 - val_acc: 0.7894\n",
      "Epoch 44/100\n",
      "5709/5709 [==============================] - 2s 275us/step - loss: 0.4537 - acc: 0.7928 - val_loss: 0.5104 - val_acc: 0.7936\n",
      "Epoch 45/100\n",
      "5709/5709 [==============================] - 2s 271us/step - loss: 0.4570 - acc: 0.7907 - val_loss: 0.5095 - val_acc: 0.7967\n",
      "Epoch 46/100\n",
      "5709/5709 [==============================] - 2s 285us/step - loss: 0.4612 - acc: 0.7896 - val_loss: 0.5084 - val_acc: 0.7925\n",
      "Epoch 47/100\n",
      "5709/5709 [==============================] - 2s 271us/step - loss: 0.4469 - acc: 0.7973 - val_loss: 0.5078 - val_acc: 0.7920\n",
      "Epoch 48/100\n",
      "5709/5709 [==============================] - 2s 267us/step - loss: 0.4571 - acc: 0.7926 - val_loss: 0.5066 - val_acc: 0.7931\n",
      "Epoch 49/100\n",
      "5709/5709 [==============================] - 2s 266us/step - loss: 0.4491 - acc: 0.7937 - val_loss: 0.5061 - val_acc: 0.7941\n",
      "Epoch 50/100\n",
      "5709/5709 [==============================] - 2s 267us/step - loss: 0.4487 - acc: 0.7963 - val_loss: 0.5045 - val_acc: 0.7931\n",
      "Epoch 51/100\n",
      "5709/5709 [==============================] - 2s 268us/step - loss: 0.4474 - acc: 0.8000 - val_loss: 0.5040 - val_acc: 0.7920\n",
      "Epoch 52/100\n",
      "5709/5709 [==============================] - 2s 276us/step - loss: 0.4546 - acc: 0.7882 - val_loss: 0.5030 - val_acc: 0.7920\n",
      "Epoch 53/100\n",
      "5709/5709 [==============================] - 2s 265us/step - loss: 0.4502 - acc: 0.7907 - val_loss: 0.5021 - val_acc: 0.7952\n",
      "Epoch 54/100\n",
      "5709/5709 [==============================] - 2s 266us/step - loss: 0.4430 - acc: 0.8026 - val_loss: 0.5023 - val_acc: 0.7952\n",
      "Epoch 55/100\n",
      "5709/5709 [==============================] - 2s 265us/step - loss: 0.4475 - acc: 0.7912 - val_loss: 0.5021 - val_acc: 0.7899\n",
      "Epoch 56/100\n",
      "5709/5709 [==============================] - 2s 268us/step - loss: 0.4390 - acc: 0.8015 - val_loss: 0.5015 - val_acc: 0.7899\n",
      "Epoch 57/100\n",
      "5709/5709 [==============================] - 2s 267us/step - loss: 0.4340 - acc: 0.8057 - val_loss: 0.5008 - val_acc: 0.7931\n",
      "Epoch 58/100\n",
      "5709/5709 [==============================] - 2s 278us/step - loss: 0.4395 - acc: 0.7989 - val_loss: 0.4999 - val_acc: 0.7920\n",
      "Epoch 59/100\n",
      "5709/5709 [==============================] - 2s 281us/step - loss: 0.4504 - acc: 0.7931 - val_loss: 0.4997 - val_acc: 0.7957\n",
      "Epoch 60/100\n",
      "5709/5709 [==============================] - 2s 266us/step - loss: 0.4345 - acc: 0.8035 - val_loss: 0.4989 - val_acc: 0.7962\n",
      "Epoch 61/100\n",
      "5709/5709 [==============================] - 2s 265us/step - loss: 0.4368 - acc: 0.8015 - val_loss: 0.4989 - val_acc: 0.7915\n",
      "Epoch 62/100\n",
      "5709/5709 [==============================] - 2s 277us/step - loss: 0.4313 - acc: 0.7956 - val_loss: 0.4982 - val_acc: 0.7910\n",
      "Epoch 63/100\n",
      "5709/5709 [==============================] - 2s 269us/step - loss: 0.4333 - acc: 0.7959 - val_loss: 0.4974 - val_acc: 0.7904\n",
      "Epoch 64/100\n",
      "5709/5709 [==============================] - 2s 265us/step - loss: 0.4346 - acc: 0.7996 - val_loss: 0.4973 - val_acc: 0.7920\n",
      "Epoch 65/100\n",
      "5709/5709 [==============================] - 2s 268us/step - loss: 0.4290 - acc: 0.8014 - val_loss: 0.4972 - val_acc: 0.7894\n",
      "Epoch 66/100\n",
      "5709/5709 [==============================] - 2s 314us/step - loss: 0.4288 - acc: 0.8068 - val_loss: 0.4961 - val_acc: 0.7957\n",
      "Epoch 67/100\n",
      "5709/5709 [==============================] - 2s 296us/step - loss: 0.4257 - acc: 0.8050 - val_loss: 0.4954 - val_acc: 0.7925\n",
      "Epoch 68/100\n",
      "5709/5709 [==============================] - 2s 302us/step - loss: 0.4293 - acc: 0.8066 - val_loss: 0.4946 - val_acc: 0.7936\n",
      "Epoch 69/100\n",
      "5709/5709 [==============================] - 2s 285us/step - loss: 0.4251 - acc: 0.8022 - val_loss: 0.4953 - val_acc: 0.7899\n",
      "Epoch 70/100\n",
      "5709/5709 [==============================] - 2s 285us/step - loss: 0.4214 - acc: 0.8054 - val_loss: 0.4947 - val_acc: 0.7925\n",
      "Epoch 71/100\n",
      "5709/5709 [==============================] - 2s 287us/step - loss: 0.4273 - acc: 0.7961 - val_loss: 0.4943 - val_acc: 0.7915\n",
      "Epoch 72/100\n",
      "5709/5709 [==============================] - 2s 296us/step - loss: 0.4234 - acc: 0.8082 - val_loss: 0.4939 - val_acc: 0.7894\n",
      "Epoch 73/100\n",
      "5709/5709 [==============================] - 2s 288us/step - loss: 0.4237 - acc: 0.7996 - val_loss: 0.4930 - val_acc: 0.7920\n",
      "Epoch 74/100\n",
      "5709/5709 [==============================] - 2s 277us/step - loss: 0.4274 - acc: 0.8057 - val_loss: 0.4933 - val_acc: 0.7925\n",
      "Epoch 75/100\n",
      "5709/5709 [==============================] - 2s 279us/step - loss: 0.4212 - acc: 0.7987 - val_loss: 0.4932 - val_acc: 0.7920\n",
      "Epoch 76/100\n",
      "5709/5709 [==============================] - 2s 271us/step - loss: 0.4223 - acc: 0.8042 - val_loss: 0.4935 - val_acc: 0.7915\n",
      "Epoch 77/100\n",
      "5709/5709 [==============================] - 2s 264us/step - loss: 0.4281 - acc: 0.7986 - val_loss: 0.4935 - val_acc: 0.7904\n",
      "Epoch 78/100\n",
      "5709/5709 [==============================] - 2s 264us/step - loss: 0.4181 - acc: 0.8078 - val_loss: 0.4928 - val_acc: 0.7941\n",
      "Epoch 79/100\n",
      "5709/5709 [==============================] - 2s 271us/step - loss: 0.4192 - acc: 0.8064 - val_loss: 0.4925 - val_acc: 0.7925\n",
      "Epoch 80/100\n",
      "5709/5709 [==============================] - 2s 272us/step - loss: 0.4222 - acc: 0.8024 - val_loss: 0.4920 - val_acc: 0.7920\n",
      "Epoch 81/100\n",
      "5709/5709 [==============================] - 2s 270us/step - loss: 0.4149 - acc: 0.8103 - val_loss: 0.4915 - val_acc: 0.7910\n",
      "Epoch 82/100\n",
      "5709/5709 [==============================] - 2s 279us/step - loss: 0.4259 - acc: 0.7940 - val_loss: 0.4916 - val_acc: 0.7915\n",
      "Epoch 83/100\n",
      "5709/5709 [==============================] - 2s 277us/step - loss: 0.4141 - acc: 0.8128 - val_loss: 0.4914 - val_acc: 0.7889\n",
      "Epoch 84/100\n",
      "5709/5709 [==============================] - 2s 277us/step - loss: 0.4141 - acc: 0.8066 - val_loss: 0.4915 - val_acc: 0.7899\n",
      "Epoch 85/100\n",
      "5709/5709 [==============================] - 2s 275us/step - loss: 0.4109 - acc: 0.8147 - val_loss: 0.4908 - val_acc: 0.7894\n",
      "Epoch 86/100\n",
      "5709/5709 [==============================] - 2s 285us/step - loss: 0.4097 - acc: 0.8066 - val_loss: 0.4906 - val_acc: 0.7899\n",
      "Epoch 87/100\n",
      "5709/5709 [==============================] - 2s 284us/step - loss: 0.4183 - acc: 0.7989 - val_loss: 0.4899 - val_acc: 0.7883\n",
      "Epoch 88/100\n",
      "5709/5709 [==============================] - 2s 290us/step - loss: 0.3980 - acc: 0.8145 - val_loss: 0.4886 - val_acc: 0.7920\n",
      "Epoch 89/100\n",
      "5709/5709 [==============================] - 2s 277us/step - loss: 0.4045 - acc: 0.8149 - val_loss: 0.4881 - val_acc: 0.7915\n",
      "Epoch 90/100\n",
      "5709/5709 [==============================] - 2s 273us/step - loss: 0.4173 - acc: 0.8050 - val_loss: 0.4878 - val_acc: 0.7904\n",
      "Epoch 91/100\n",
      "5709/5709 [==============================] - 2s 273us/step - loss: 0.4090 - acc: 0.8073 - val_loss: 0.4883 - val_acc: 0.7899\n",
      "Epoch 92/100\n",
      "5709/5709 [==============================] - 2s 274us/step - loss: 0.4090 - acc: 0.8089 - val_loss: 0.4885 - val_acc: 0.7873\n",
      "Epoch 93/100\n",
      "5709/5709 [==============================] - 2s 282us/step - loss: 0.4218 - acc: 0.8000 - val_loss: 0.4887 - val_acc: 0.7873\n",
      "Epoch 94/100\n",
      "5709/5709 [==============================] - 2s 278us/step - loss: 0.4095 - acc: 0.8122 - val_loss: 0.4886 - val_acc: 0.7883\n",
      "Epoch 95/100\n",
      "5709/5709 [==============================] - 2s 271us/step - loss: 0.4099 - acc: 0.8124 - val_loss: 0.4881 - val_acc: 0.7873\n",
      "Epoch 96/100\n",
      "5709/5709 [==============================] - 2s 265us/step - loss: 0.4014 - acc: 0.8117 - val_loss: 0.4882 - val_acc: 0.7889\n",
      "Epoch 97/100\n",
      "5709/5709 [==============================] - 2s 264us/step - loss: 0.4089 - acc: 0.8059 - val_loss: 0.4876 - val_acc: 0.7878\n",
      "Epoch 98/100\n",
      "5709/5709 [==============================] - 2s 271us/step - loss: 0.3984 - acc: 0.8152 - val_loss: 0.4872 - val_acc: 0.7862\n",
      "Epoch 99/100\n",
      "5709/5709 [==============================] - 2s 274us/step - loss: 0.4007 - acc: 0.8122 - val_loss: 0.4875 - val_acc: 0.7868\n",
      "Epoch 100/100\n",
      "5709/5709 [==============================] - 2s 285us/step - loss: 0.4071 - acc: 0.8147 - val_loss: 0.4863 - val_acc: 0.7857\n"
     ]
    },
    {
     "data": {
      "text/plain": [
       "<keras.callbacks.callbacks.History at 0x7feaa13553d0>"
      ]
     },
     "execution_count": 18,
     "metadata": {},
     "output_type": "execute_result"
    }
   ],
   "source": [
    "model.fit(x=train_X, y=train_y, validation_data=(val_X, val_y), epochs=100)"
   ]
  },
  {
   "cell_type": "markdown",
   "execution_count": null,
   "metadata": {},
   "source": [
    "### Dealing with the test data"
   ]
  },
  {
   "cell_type": "markdown",
   "execution_count": null,
   "metadata": {},
   "source": [
    "Converting the CSV file into a pandas dataframe - "
   ]
  },
  {
   "cell_type": "code",
   "execution_count": 19,
   "metadata": {},
   "outputs": [],
   "source": [
    "test_data = pd.read_csv('../input/nlp-getting-started/test.csv')"
   ]
  },
  {
   "cell_type": "markdown",
   "execution_count": null,
   "metadata": {},
   "source": [
    "### Encoding the features of the test data"
   ]
  },
  {
   "cell_type": "markdown",
   "execution_count": null,
   "metadata": {},
   "source": [
    "Encoding the features of the test data and defining a new variable to hold the features - "
   ]
  },
  {
   "cell_type": "code",
   "execution_count": 20,
   "metadata": {},
   "outputs": [
    {
     "name": "stderr",
     "output_type": "stream",
     "text": [
      "/opt/conda/lib/python3.7/site-packages/ipykernel_launcher.py:2: RuntimeWarning: invalid value encountered in true_divide\n",
      "  \n"
     ]
    }
   ],
   "source": [
    "test_vectors = count_vectorizer.transform(test_data[\"text\"]).todense()\n",
    "X_test = test_vectors/test_vectors.max(axis=1)\n",
    "X_test[np.isnan(X_test)] = 0"
   ]
  },
  {
   "cell_type": "markdown",
   "execution_count": null,
   "metadata": {},
   "source": [
    "### Prediction"
   ]
  },
  {
   "cell_type": "code",
   "execution_count": 21,
   "metadata": {},
   "outputs": [],
   "source": [
    "predictions = np.round(model.predict(X_test)).reshape((len(X_test)))"
   ]
  },
  {
   "cell_type": "markdown",
   "execution_count": null,
   "metadata": {},
   "source": [
    "Since sample_submission.csv is of the format in which our submission is supposed to be made, I'm first importing it and converting it into a pandas dataframe -"
   ]
  },
  {
   "cell_type": "code",
   "execution_count": 22,
   "metadata": {},
   "outputs": [],
   "source": [
    "sample_submission = pd.read_csv('../input/nlp-getting-started/sample_submission.csv')"
   ]
  },
  {
   "cell_type": "markdown",
   "execution_count": null,
   "metadata": {},
   "source": [
    "Replacing the 'target' column in the dataframe with the values we got -"
   ]
  },
  {
   "cell_type": "code",
   "execution_count": 23,
   "metadata": {},
   "outputs": [],
   "source": [
    "sample_submission[\"target\"] = np.int32(predictions)"
   ]
  },
  {
   "cell_type": "markdown",
   "execution_count": null,
   "metadata": {},
   "source": [
    "A final look at the dataframe with our predictions -"
   ]
  },
  {
   "cell_type": "code",
   "execution_count": 24,
   "metadata": {},
   "outputs": [
    {
     "data": {
      "text/html": [
       "<div>\n",
       "<style scoped>\n",
       "    .dataframe tbody tr th:only-of-type {\n",
       "        vertical-align: middle;\n",
       "    }\n",
       "\n",
       "    .dataframe tbody tr th {\n",
       "        vertical-align: top;\n",
       "    }\n",
       "\n",
       "    .dataframe thead th {\n",
       "        text-align: right;\n",
       "    }\n",
       "</style>\n",
       "<table border=\"1\" class=\"dataframe\">\n",
       "  <thead>\n",
       "    <tr style=\"text-align: right;\">\n",
       "      <th></th>\n",
       "      <th>id</th>\n",
       "      <th>target</th>\n",
       "    </tr>\n",
       "  </thead>\n",
       "  <tbody>\n",
       "    <tr>\n",
       "      <th>0</th>\n",
       "      <td>0</td>\n",
       "      <td>0</td>\n",
       "    </tr>\n",
       "    <tr>\n",
       "      <th>1</th>\n",
       "      <td>2</td>\n",
       "      <td>0</td>\n",
       "    </tr>\n",
       "    <tr>\n",
       "      <th>2</th>\n",
       "      <td>3</td>\n",
       "      <td>1</td>\n",
       "    </tr>\n",
       "    <tr>\n",
       "      <th>3</th>\n",
       "      <td>9</td>\n",
       "      <td>1</td>\n",
       "    </tr>\n",
       "    <tr>\n",
       "      <th>4</th>\n",
       "      <td>11</td>\n",
       "      <td>1</td>\n",
       "    </tr>\n",
       "    <tr>\n",
       "      <th>5</th>\n",
       "      <td>12</td>\n",
       "      <td>1</td>\n",
       "    </tr>\n",
       "    <tr>\n",
       "      <th>6</th>\n",
       "      <td>21</td>\n",
       "      <td>0</td>\n",
       "    </tr>\n",
       "    <tr>\n",
       "      <th>7</th>\n",
       "      <td>22</td>\n",
       "      <td>0</td>\n",
       "    </tr>\n",
       "    <tr>\n",
       "      <th>8</th>\n",
       "      <td>27</td>\n",
       "      <td>0</td>\n",
       "    </tr>\n",
       "    <tr>\n",
       "      <th>9</th>\n",
       "      <td>29</td>\n",
       "      <td>0</td>\n",
       "    </tr>\n",
       "  </tbody>\n",
       "</table>\n",
       "</div>"
      ],
      "text/plain": [
       "   id  target\n",
       "0   0       0\n",
       "1   2       0\n",
       "2   3       1\n",
       "3   9       1\n",
       "4  11       1\n",
       "5  12       1\n",
       "6  21       0\n",
       "7  22       0\n",
       "8  27       0\n",
       "9  29       0"
      ]
     },
     "execution_count": 24,
     "metadata": {},
     "output_type": "execute_result"
    }
   ],
   "source": [
    "sample_submission.head(10)"
   ]
  },
  {
   "cell_type": "markdown",
   "execution_count": null,
   "metadata": {},
   "source": [
    "Converting the dataframe into a csv file without the index column -"
   ]
  },
  {
   "cell_type": "code",
   "execution_count": 25,
   "metadata": {},
   "outputs": [],
   "source": [
    "sample_submission.to_csv('submission.csv', index=False)"
   ]
  },
  {
   "cell_type": "markdown",
   "execution_count": null,
   "metadata": {},
   "source": [
    "### Ending Note"
   ]
  },
  {
   "cell_type": "markdown",
   "execution_count": null,
   "metadata": {},
   "source": [
    "Through this project, I learnt about the conversion of text to vectors. I really enjoyed it, and look forward to learning more in the future. This being only my third ml model, I really appreciate feedback to help me improve both the accuracy and efficiency of my model :)"
   ]
  }
 ],
 "metadata": {
  "kernelspec": {
   "display_name": "Python 3",
   "language": "python",
   "name": "python3"
  },
  "language_info": {
   "codemirror_mode": {
    "name": "ipython",
    "version": 3
   },
   "file_extension": ".py",
   "mimetype": "text/x-python",
   "name": "python",
   "nbconvert_exporter": "python",
   "pygments_lexer": "ipython3",
   "version": "3.7.6"
  },
  "widgets": {
   "application/vnd.jupyter.widget-state+json": {
    "state": {
     "0e6451b8dcc749a3b0e3d5d4a322d34f": {
      "model_module": "@jupyter-widgets/controls",
      "model_module_version": "1.5.0",
      "model_name": "DescriptionStyleModel",
      "state": {
       "_model_module": "@jupyter-widgets/controls",
       "_model_module_version": "1.5.0",
       "_model_name": "DescriptionStyleModel",
       "_view_count": null,
       "_view_module": "@jupyter-widgets/base",
       "_view_module_version": "1.2.0",
       "_view_name": "StyleView",
       "description_width": ""
      }
     },
     "3c44da46eed141908f0ebef7d40cfb2e": {
      "model_module": "@jupyter-widgets/base",
      "model_module_version": "1.2.0",
      "model_name": "LayoutModel",
      "state": {
       "_model_module": "@jupyter-widgets/base",
       "_model_module_version": "1.2.0",
       "_model_name": "LayoutModel",
       "_view_count": null,
       "_view_module": "@jupyter-widgets/base",
       "_view_module_version": "1.2.0",
       "_view_name": "LayoutView",
       "align_content": null,
       "align_items": null,
       "align_self": null,
       "border": null,
       "bottom": null,
       "display": null,
       "flex": null,
       "flex_flow": null,
       "grid_area": null,
       "grid_auto_columns": null,
       "grid_auto_flow": null,
       "grid_auto_rows": null,
       "grid_column": null,
       "grid_gap": null,
       "grid_row": null,
       "grid_template_areas": null,
       "grid_template_columns": null,
       "grid_template_rows": null,
       "height": null,
       "justify_content": null,
       "justify_items": null,
       "left": null,
       "margin": null,
       "max_height": null,
       "max_width": null,
       "min_height": null,
       "min_width": null,
       "object_fit": null,
       "object_position": null,
       "order": null,
       "overflow": null,
       "overflow_x": null,
       "overflow_y": null,
       "padding": null,
       "right": null,
       "top": null,
       "visibility": null,
       "width": null
      }
     },
     "4d14f24203254247b3727eef085997c3": {
      "model_module": "@jupyter-widgets/base",
      "model_module_version": "1.2.0",
      "model_name": "LayoutModel",
      "state": {
       "_model_module": "@jupyter-widgets/base",
       "_model_module_version": "1.2.0",
       "_model_name": "LayoutModel",
       "_view_count": null,
       "_view_module": "@jupyter-widgets/base",
       "_view_module_version": "1.2.0",
       "_view_name": "LayoutView",
       "align_content": null,
       "align_items": null,
       "align_self": null,
       "border": null,
       "bottom": null,
       "display": null,
       "flex": null,
       "flex_flow": null,
       "grid_area": null,
       "grid_auto_columns": null,
       "grid_auto_flow": null,
       "grid_auto_rows": null,
       "grid_column": null,
       "grid_gap": null,
       "grid_row": null,
       "grid_template_areas": null,
       "grid_template_columns": null,
       "grid_template_rows": null,
       "height": null,
       "justify_content": null,
       "justify_items": null,
       "left": null,
       "margin": null,
       "max_height": null,
       "max_width": null,
       "min_height": null,
       "min_width": null,
       "object_fit": null,
       "object_position": null,
       "order": null,
       "overflow": null,
       "overflow_x": null,
       "overflow_y": null,
       "padding": null,
       "right": null,
       "top": null,
       "visibility": null,
       "width": null
      }
     },
     "5077f4d82170451baa3d455f81c33aaf": {
      "model_module": "@jupyter-widgets/controls",
      "model_module_version": "1.5.0",
      "model_name": "HTMLModel",
      "state": {
       "_dom_classes": [],
       "_model_module": "@jupyter-widgets/controls",
       "_model_module_version": "1.5.0",
       "_model_name": "HTMLModel",
       "_view_count": null,
       "_view_module": "@jupyter-widgets/controls",
       "_view_module_version": "1.5.0",
       "_view_name": "HTMLView",
       "description": "",
       "description_tooltip": null,
       "layout": "IPY_MODEL_c4b78fb3d7ef47e1b3d6def36eebfb54",
       "placeholder": "​",
       "style": "IPY_MODEL_0e6451b8dcc749a3b0e3d5d4a322d34f",
       "value": " 7613/7613 [00:00&lt;00:00, 100118.01it/s]"
      }
     },
     "594809e3ac70478cba3e6004ee4316a4": {
      "model_module": "@jupyter-widgets/base",
      "model_module_version": "1.2.0",
      "model_name": "LayoutModel",
      "state": {
       "_model_module": "@jupyter-widgets/base",
       "_model_module_version": "1.2.0",
       "_model_name": "LayoutModel",
       "_view_count": null,
       "_view_module": "@jupyter-widgets/base",
       "_view_module_version": "1.2.0",
       "_view_name": "LayoutView",
       "align_content": null,
       "align_items": null,
       "align_self": null,
       "border": null,
       "bottom": null,
       "display": null,
       "flex": null,
       "flex_flow": null,
       "grid_area": null,
       "grid_auto_columns": null,
       "grid_auto_flow": null,
       "grid_auto_rows": null,
       "grid_column": null,
       "grid_gap": null,
       "grid_row": null,
       "grid_template_areas": null,
       "grid_template_columns": null,
       "grid_template_rows": null,
       "height": null,
       "justify_content": null,
       "justify_items": null,
       "left": null,
       "margin": null,
       "max_height": null,
       "max_width": null,
       "min_height": null,
       "min_width": null,
       "object_fit": null,
       "object_position": null,
       "order": null,
       "overflow": null,
       "overflow_x": null,
       "overflow_y": null,
       "padding": null,
       "right": null,
       "top": null,
       "visibility": null,
       "width": null
      }
     },
     "68a06af377054c5b9fe8b6d6dd9279f8": {
      "model_module": "@jupyter-widgets/controls",
      "model_module_version": "1.5.0",
      "model_name": "FloatProgressModel",
      "state": {
       "_dom_classes": [],
       "_model_module": "@jupyter-widgets/controls",
       "_model_module_version": "1.5.0",
       "_model_name": "FloatProgressModel",
       "_view_count": null,
       "_view_module": "@jupyter-widgets/controls",
       "_view_module_version": "1.5.0",
       "_view_name": "ProgressView",
       "bar_style": "success",
       "description": "100%",
       "description_tooltip": null,
       "layout": "IPY_MODEL_d0e0f1c631ec4742a023038973dce588",
       "max": 7613.0,
       "min": 0.0,
       "orientation": "horizontal",
       "style": "IPY_MODEL_f564451864ae4eb8b642c5d623d4674e",
       "value": 7613.0
      }
     },
     "74fc2877a80a4929aa49bae4624d21ac": {
      "model_module": "@jupyter-widgets/controls",
      "model_module_version": "1.5.0",
      "model_name": "HTMLModel",
      "state": {
       "_dom_classes": [],
       "_model_module": "@jupyter-widgets/controls",
       "_model_module_version": "1.5.0",
       "_model_name": "HTMLModel",
       "_view_count": null,
       "_view_module": "@jupyter-widgets/controls",
       "_view_module_version": "1.5.0",
       "_view_name": "HTMLView",
       "description": "",
       "description_tooltip": null,
       "layout": "IPY_MODEL_594809e3ac70478cba3e6004ee4316a4",
       "placeholder": "​",
       "style": "IPY_MODEL_7b1c61377d804ec08c77e8e4021a3a94",
       "value": " 7613/7613 [00:00&lt;00:00, 38190.83it/s]"
      }
     },
     "7664f4a704944139a30a0b2e30e341ff": {
      "model_module": "@jupyter-widgets/base",
      "model_module_version": "1.2.0",
      "model_name": "LayoutModel",
      "state": {
       "_model_module": "@jupyter-widgets/base",
       "_model_module_version": "1.2.0",
       "_model_name": "LayoutModel",
       "_view_count": null,
       "_view_module": "@jupyter-widgets/base",
       "_view_module_version": "1.2.0",
       "_view_name": "LayoutView",
       "align_content": null,
       "align_items": null,
       "align_self": null,
       "border": null,
       "bottom": null,
       "display": null,
       "flex": null,
       "flex_flow": null,
       "grid_area": null,
       "grid_auto_columns": null,
       "grid_auto_flow": null,
       "grid_auto_rows": null,
       "grid_column": null,
       "grid_gap": null,
       "grid_row": null,
       "grid_template_areas": null,
       "grid_template_columns": null,
       "grid_template_rows": null,
       "height": null,
       "justify_content": null,
       "justify_items": null,
       "left": null,
       "margin": null,
       "max_height": null,
       "max_width": null,
       "min_height": null,
       "min_width": null,
       "object_fit": null,
       "object_position": null,
       "order": null,
       "overflow": null,
       "overflow_x": null,
       "overflow_y": null,
       "padding": null,
       "right": null,
       "top": null,
       "visibility": null,
       "width": null
      }
     },
     "7b1c61377d804ec08c77e8e4021a3a94": {
      "model_module": "@jupyter-widgets/controls",
      "model_module_version": "1.5.0",
      "model_name": "DescriptionStyleModel",
      "state": {
       "_model_module": "@jupyter-widgets/controls",
       "_model_module_version": "1.5.0",
       "_model_name": "DescriptionStyleModel",
       "_view_count": null,
       "_view_module": "@jupyter-widgets/base",
       "_view_module_version": "1.2.0",
       "_view_name": "StyleView",
       "description_width": ""
      }
     },
     "a8b58bd7b27b467487e4ffaa4f835853": {
      "model_module": "@jupyter-widgets/controls",
      "model_module_version": "1.5.0",
      "model_name": "HBoxModel",
      "state": {
       "_dom_classes": [],
       "_model_module": "@jupyter-widgets/controls",
       "_model_module_version": "1.5.0",
       "_model_name": "HBoxModel",
       "_view_count": null,
       "_view_module": "@jupyter-widgets/controls",
       "_view_module_version": "1.5.0",
       "_view_name": "HBoxView",
       "box_style": "",
       "children": [
        "IPY_MODEL_fa9e22001a154afdb56e5d2f155439de",
        "IPY_MODEL_74fc2877a80a4929aa49bae4624d21ac"
       ],
       "layout": "IPY_MODEL_7664f4a704944139a30a0b2e30e341ff"
      }
     },
     "c4b78fb3d7ef47e1b3d6def36eebfb54": {
      "model_module": "@jupyter-widgets/base",
      "model_module_version": "1.2.0",
      "model_name": "LayoutModel",
      "state": {
       "_model_module": "@jupyter-widgets/base",
       "_model_module_version": "1.2.0",
       "_model_name": "LayoutModel",
       "_view_count": null,
       "_view_module": "@jupyter-widgets/base",
       "_view_module_version": "1.2.0",
       "_view_name": "LayoutView",
       "align_content": null,
       "align_items": null,
       "align_self": null,
       "border": null,
       "bottom": null,
       "display": null,
       "flex": null,
       "flex_flow": null,
       "grid_area": null,
       "grid_auto_columns": null,
       "grid_auto_flow": null,
       "grid_auto_rows": null,
       "grid_column": null,
       "grid_gap": null,
       "grid_row": null,
       "grid_template_areas": null,
       "grid_template_columns": null,
       "grid_template_rows": null,
       "height": null,
       "justify_content": null,
       "justify_items": null,
       "left": null,
       "margin": null,
       "max_height": null,
       "max_width": null,
       "min_height": null,
       "min_width": null,
       "object_fit": null,
       "object_position": null,
       "order": null,
       "overflow": null,
       "overflow_x": null,
       "overflow_y": null,
       "padding": null,
       "right": null,
       "top": null,
       "visibility": null,
       "width": null
      }
     },
     "d0e0f1c631ec4742a023038973dce588": {
      "model_module": "@jupyter-widgets/base",
      "model_module_version": "1.2.0",
      "model_name": "LayoutModel",
      "state": {
       "_model_module": "@jupyter-widgets/base",
       "_model_module_version": "1.2.0",
       "_model_name": "LayoutModel",
       "_view_count": null,
       "_view_module": "@jupyter-widgets/base",
       "_view_module_version": "1.2.0",
       "_view_name": "LayoutView",
       "align_content": null,
       "align_items": null,
       "align_self": null,
       "border": null,
       "bottom": null,
       "display": null,
       "flex": null,
       "flex_flow": null,
       "grid_area": null,
       "grid_auto_columns": null,
       "grid_auto_flow": null,
       "grid_auto_rows": null,
       "grid_column": null,
       "grid_gap": null,
       "grid_row": null,
       "grid_template_areas": null,
       "grid_template_columns": null,
       "grid_template_rows": null,
       "height": null,
       "justify_content": null,
       "justify_items": null,
       "left": null,
       "margin": null,
       "max_height": null,
       "max_width": null,
       "min_height": null,
       "min_width": null,
       "object_fit": null,
       "object_position": null,
       "order": null,
       "overflow": null,
       "overflow_x": null,
       "overflow_y": null,
       "padding": null,
       "right": null,
       "top": null,
       "visibility": null,
       "width": null
      }
     },
     "efd0b4ffbfa248c5aae411f6eeb0cede": {
      "model_module": "@jupyter-widgets/controls",
      "model_module_version": "1.5.0",
      "model_name": "HBoxModel",
      "state": {
       "_dom_classes": [],
       "_model_module": "@jupyter-widgets/controls",
       "_model_module_version": "1.5.0",
       "_model_name": "HBoxModel",
       "_view_count": null,
       "_view_module": "@jupyter-widgets/controls",
       "_view_module_version": "1.5.0",
       "_view_name": "HBoxView",
       "box_style": "",
       "children": [
        "IPY_MODEL_68a06af377054c5b9fe8b6d6dd9279f8",
        "IPY_MODEL_5077f4d82170451baa3d455f81c33aaf"
       ],
       "layout": "IPY_MODEL_4d14f24203254247b3727eef085997c3"
      }
     },
     "f564451864ae4eb8b642c5d623d4674e": {
      "model_module": "@jupyter-widgets/controls",
      "model_module_version": "1.5.0",
      "model_name": "ProgressStyleModel",
      "state": {
       "_model_module": "@jupyter-widgets/controls",
       "_model_module_version": "1.5.0",
       "_model_name": "ProgressStyleModel",
       "_view_count": null,
       "_view_module": "@jupyter-widgets/base",
       "_view_module_version": "1.2.0",
       "_view_name": "StyleView",
       "bar_color": null,
       "description_width": "initial"
      }
     },
     "f5dd8e67b951461281d1e0ad1111dc1d": {
      "model_module": "@jupyter-widgets/controls",
      "model_module_version": "1.5.0",
      "model_name": "ProgressStyleModel",
      "state": {
       "_model_module": "@jupyter-widgets/controls",
       "_model_module_version": "1.5.0",
       "_model_name": "ProgressStyleModel",
       "_view_count": null,
       "_view_module": "@jupyter-widgets/base",
       "_view_module_version": "1.2.0",
       "_view_name": "StyleView",
       "bar_color": null,
       "description_width": "initial"
      }
     },
     "fa9e22001a154afdb56e5d2f155439de": {
      "model_module": "@jupyter-widgets/controls",
      "model_module_version": "1.5.0",
      "model_name": "FloatProgressModel",
      "state": {
       "_dom_classes": [],
       "_model_module": "@jupyter-widgets/controls",
       "_model_module_version": "1.5.0",
       "_model_name": "FloatProgressModel",
       "_view_count": null,
       "_view_module": "@jupyter-widgets/controls",
       "_view_module_version": "1.5.0",
       "_view_name": "ProgressView",
       "bar_style": "success",
       "description": "100%",
       "description_tooltip": null,
       "layout": "IPY_MODEL_3c44da46eed141908f0ebef7d40cfb2e",
       "max": 7613.0,
       "min": 0.0,
       "orientation": "horizontal",
       "style": "IPY_MODEL_f5dd8e67b951461281d1e0ad1111dc1d",
       "value": 7613.0
      }
     }
    },
    "version_major": 2,
    "version_minor": 0
   }
  }
 },
 "nbformat": 4,
 "nbformat_minor": 4
}
